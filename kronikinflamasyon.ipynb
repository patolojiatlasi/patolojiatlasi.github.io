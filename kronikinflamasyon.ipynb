{
  "cells": [
    {
      "cell_type": "markdown",
      "metadata": {},
      "source": [
        "```{asis, echo = language == \"EN\"}\n",
        "\n",
        "# Hydronephrosis and Chronic Pyelonephritis\n",
        "\n",
        "Hydronephrosis and Chronic Pyelonephritis\n",
        "\n",
        "[https://pathologyatlas.github.io/chronicpyelonephritis/HE1.html](https://pathologyatlas.github.io/chronicpyelonephritis/HE1.html)\n",
        "\n",
        "See Microscopy with viewer: \n",
        "\n",
        "<iframe src=\"https://pathologyatlas.github.io/chronicpyelonephritis/HE1.html\" style=\"height:400px;width:100%;\"></iframe>\n",
        "\n",
        "[https://pathologyatlas.github.io/chronicpyelonephritis/HE2.html](https://pathologyatlas.github.io/chronicpyelonephritis/HE2.html)\n",
        "\n",
        "See Microscopy with viewer: \n",
        "\n",
        "<iframe src=\"https://pathologyatlas.github.io/chronicpyelonephritis/HE2.html\" style=\"height:400px;width:100%;\"></iframe>\n",
        "\n",
        "```\n",
        "\n",
        "\n",
        "```{asis, echo = language == \"TR\"}\n",
        "\n",
        "# Hidronefroz ve Kronik Pyelonefrit\n",
        "\n",
        "Hidronefroz ve Kronik Pyelonefrit\n",
        "\n",
        "[https://pathologyatlas.github.io/chronicpyelonephritis/HE1.html](https://pathologyatlas.github.io/chronicpyelonephritis/HE1.html)\n",
        "\n",
        "Mikroskopik görüntüleri inceleyin:\n",
        "\n",
        "<iframe src=\"https://pathologyatlas.github.io/chronicpyelonephritis/HE1.html\" style=\"height:400px;width:100%;\"></iframe>\n",
        "\n",
        "[https://pathologyatlas.github.io/chronicpyelonephritis/HE2.html](https://pathologyatlas.github.io/chronicpyelonephritis/HE2.html)\n",
        "\n",
        "Mikroskopik görüntüleri inceleyin:\n",
        "\n",
        "<iframe src=\"https://pathologyatlas.github.io/chronicpyelonephritis/HE2.html\" style=\"height:400px;width:100%;\"></iframe>\n",
        "\n",
        "```\n"
      ],
      "id": "2eecb03a"
    }
  ],
  "metadata": {
    "kernelspec": {
      "display_name": "Python 3",
      "language": "python",
      "name": "python3"
    }
  },
  "nbformat": 4,
  "nbformat_minor": 5
}